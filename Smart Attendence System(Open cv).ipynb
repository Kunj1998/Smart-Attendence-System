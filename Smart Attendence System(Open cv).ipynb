{
 "cells": [
  {
   "cell_type": "code",
   "execution_count": 1,
   "id": "4b282618",
   "metadata": {},
   "outputs": [
    {
     "name": "stdout",
     "output_type": "stream",
     "text": [
      "Enter date-dd/mm/yyyy21/05/2024\n"
     ]
    },
    {
     "data": {
      "text/html": [
       "<div>\n",
       "<style scoped>\n",
       "    .dataframe tbody tr th:only-of-type {\n",
       "        vertical-align: middle;\n",
       "    }\n",
       "\n",
       "    .dataframe tbody tr th {\n",
       "        vertical-align: top;\n",
       "    }\n",
       "\n",
       "    .dataframe thead th {\n",
       "        text-align: right;\n",
       "    }\n",
       "</style>\n",
       "<table border=\"1\" class=\"dataframe\">\n",
       "  <thead>\n",
       "    <tr style=\"text-align: right;\">\n",
       "      <th></th>\n",
       "      <th>S.no</th>\n",
       "      <th>Unnamed: 1</th>\n",
       "      <th>Unnamed: 2</th>\n",
       "      <th>21/05/2024</th>\n",
       "    </tr>\n",
       "  </thead>\n",
       "  <tbody>\n",
       "  </tbody>\n",
       "</table>\n",
       "</div>"
      ],
      "text/plain": [
       "Empty DataFrame\n",
       "Columns: [S.no, Unnamed: 1, Unnamed: 2, 21/05/2024]\n",
       "Index: []"
      ]
     },
     "execution_count": 1,
     "metadata": {},
     "output_type": "execute_result"
    }
   ],
   "source": [
    "import pandas as pd\n",
    "df=pd.read_csv(\"D:/face attendence data.csv\")\n",
    "date=input('Enter date-dd/mm/yyyy')\n",
    "df[date]='A'\n",
    "df.to_csv(\"D:/face attendence data.csv\",index=False)\n",
    "df"
   ]
  },
  {
   "cell_type": "code",
   "execution_count": 2,
   "id": "11d833fc",
   "metadata": {},
   "outputs": [
    {
     "name": "stdout",
     "output_type": "stream",
     "text": [
      "Enter your id:88\n",
      "Enter your name:deepak\n"
     ]
    }
   ],
   "source": [
    "import pandas as pd\n",
    "import cv2\n",
    "\n",
    "face_cascade = cv2.CascadeClassifier(\"D:/haarcascade_frontalface_default.xml\")\n",
    "cam = cv2.VideoCapture(0)\n",
    "\n",
    "Id = input('Enter your id:')\n",
    "Name = input('Enter your name:')\n",
    "\n",
    "df = pd.read_csv(\"D:/face attendence data.csv\")\n",
    "df2 = pd.DataFrame({'Id': [Id], 'Name': [Name]})\n",
    "df = pd.concat([df, df2]).drop_duplicates().reset_index(drop=True)\n",
    "df.to_csv(\"D:/face attendence data.csv\", index=False)\n",
    "sampleNum = 0\n",
    "while True:\n",
    "    ret, img = cam.read()\n",
    "    if not ret:\n",
    "        break\n",
    "    faces = face_cascade.detectMultiScale(img, 1.3, 5)\n",
    "    for (x, y, w, h) in faces:\n",
    "        cv2.rectangle(img, (x, y), (x+w, y+h), (144, 1, 1), 3)\n",
    "        sampleNum += 1\n",
    "        # Save the captured face in the dataset folder\n",
    "        file_path = f\"D:/Face/image.{Id}-{sampleNum}.jpg\"\n",
    "        cv2.imwrite(file_path, img[y:y+h, x:x+w])\n",
    "        cv2.imshow('frame', img)\n",
    "    if cv2.waitKey(100) & 0xff == ord('q'):\n",
    "        break\n",
    "    elif sampleNum >= 10:\n",
    "        break\n",
    "\n",
    "# Release the video capture and close windows\n",
    "cam.release()\n",
    "cv2.destroyAllWindows()\n"
   ]
  },
  {
   "cell_type": "code",
   "execution_count": 3,
   "id": "34de471a",
   "metadata": {},
   "outputs": [],
   "source": [
    "import os\n",
    "import cv2\n",
    "import numpy as np\n",
    "from PIL import Image\n",
    "\n",
    "recognizer = cv2.face.LBPHFaceRecognizer_create()\n",
    "path = \"D:/Face\"\n",
    "\n",
    "def getImagewithID(path):\n",
    "    imagePaths = [os.path.join(path, f) for f in os.listdir(path)]\n",
    "    faces = []\n",
    "    IDs = []\n",
    "    for imagePath in imagePaths:\n",
    "        # Open image and convert to grayscale\n",
    "        faceImg = Image.open(imagePath).convert('L')\n",
    "        faceNp = np.array(faceImg, 'uint8')\n",
    "        # Extract the ID from the filename assuming the format is image.ID-SAMPLENUMBER.jpg\n",
    "        try:\n",
    "            ID = int(os.path.split(imagePath)[-1].split('.')[1].split('-')[0])\n",
    "            faces.append(faceNp)\n",
    "            IDs.append(ID)\n",
    "            cv2.imshow('training', faceNp)\n",
    "            cv2.waitKey(100)\n",
    "        except IndexError:\n",
    "            print(f\"Skipping file {imagePath}, filename format is incorrect\")\n",
    "    return np.array(IDs), faces\n",
    "\n",
    "ids, faces = getImagewithID(path)\n",
    "recognizer.train(faces, ids)\n",
    "recognizer.save(\"D:/trainningData.yml\")\n",
    "cv2.destroyAllWindows()\n"
   ]
  },
  {
   "cell_type": "code",
   "execution_count": 4,
   "id": "4d0ce51e",
   "metadata": {},
   "outputs": [
    {
     "name": "stdout",
     "output_type": "stream",
     "text": [
      "Enter date-dd/mm/yyyy21/05/2024\n"
     ]
    }
   ],
   "source": [
    "import cv2\n",
    "import numpy as np\n",
    "import pandas as pd\n",
    "\n",
    "date = input('Enter date-dd/mm/yyyy')\n",
    "faceDetect = cv2.CascadeClassifier(\"D:/haarcascade_frontalface_default.xml\")\n",
    "cam = cv2.VideoCapture(0)\n",
    "rec = cv2.face.LBPHFaceRecognizer_create()\n",
    "rec.read(\"D:/trainningData.yml\")\n",
    "df = pd.read_csv(\"D:/face attendence data.csv\")\n",
    "if date not in df.columns:\n",
    "    df[date] = 'A'\n",
    "\n",
    "font = cv2.FONT_HERSHEY_COMPLEX_SMALL\n",
    "\n",
    "while True:\n",
    "    ret, img = cam.read()\n",
    "    gray = cv2.cvtColor(img, cv2.COLOR_BGR2GRAY)\n",
    "    faces = faceDetect.detectMultiScale(gray, 1.3, 5)\n",
    "    \n",
    "    for (x, y, w, h) in faces:\n",
    "        cv2.rectangle(img, (x, y), (x + w, y + h), (0, 0, 255), 2)\n",
    "        id, conf = rec.predict(gray[y:y + h, x:x + w])\n",
    "        \n",
    "        if conf < 100:  # You can adjust the confidence threshold as needed\n",
    "            name = df['Name'][df['Id'] == id].values[0]\n",
    "            display_text = f\"ID: {id} Name: {name}\"\n",
    "            df.loc[df['Id'] == id, date] = 'P'\n",
    "        else:\n",
    "            display_text = \"Unknown\"\n",
    "        \n",
    "        cv2.putText(img, display_text, (x, y + h + 20), font, 1, (255, 255, 255), 2)\n",
    "    \n",
    "    df.to_csv(\"D:/face attendence data.csv\", index=False)\n",
    "    cv2.imshow('Face', img)\n",
    "    \n",
    "    if cv2.waitKey(1) & 0xFF == ord('q'):\n",
    "        break\n",
    "\n",
    "cam.release()\n",
    "cv2.destroyAllWindows()\n"
   ]
  },
  {
   "cell_type": "code",
   "execution_count": null,
   "id": "8585ff6b",
   "metadata": {},
   "outputs": [],
   "source": []
  }
 ],
 "metadata": {
  "kernelspec": {
   "display_name": "Python 3 (ipykernel)",
   "language": "python",
   "name": "python3"
  },
  "language_info": {
   "codemirror_mode": {
    "name": "ipython",
    "version": 3
   },
   "file_extension": ".py",
   "mimetype": "text/x-python",
   "name": "python",
   "nbconvert_exporter": "python",
   "pygments_lexer": "ipython3",
   "version": "3.11.5"
  }
 },
 "nbformat": 4,
 "nbformat_minor": 5
}
